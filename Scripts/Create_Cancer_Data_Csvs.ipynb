{
 "cells": [
  {
   "cell_type": "markdown",
   "id": "fff6bc65",
   "metadata": {},
   "source": [
    "#### The goal of this script is to generate 2 matricies, for miRNA and mRNA respectively, combing the data for each cancerous sample in our dataset. Each row will be a patient, and each column will be a miRNA/mRNA. The data is normalized counts of the RNA. Matricies are output into csv files in the folder \"Organized_Data\"."
   ]
  },
  {
   "cell_type": "code",
   "execution_count": 1,
   "id": "78ce0a08",
   "metadata": {},
   "outputs": [],
   "source": [
    "# Necessary Imports\n",
    "\n",
    "import numpy as np\n",
    "import matplotlib.pyplot as plt\n",
    "import seaborn as sns\n",
    "import pandas as pd\n",
    "import csv\n",
    "from scipy import stats"
   ]
  },
  {
   "cell_type": "code",
   "execution_count": 2,
   "id": "87bd27c9",
   "metadata": {},
   "outputs": [],
   "source": [
    "'''\n",
    "Pulling in all the case IDs for cancerous patient data\n",
    "'''\n",
    "\n",
    "# List of case IDs for patients that only have cancerous data\n",
    "tumor_case_ids = []\n",
    "\n",
    "# Getting all case IDs for cancerous data\n",
    "with open('../Organized_Data/tumor_case_ids.csv', newline='') \\\n",
    "as csvfile:\n",
    "    reader = csv.reader(csvfile, delimiter=' ')\n",
    "    for row in reader:\n",
    "        tumor_case_ids.append(row[0])\n",
    "        \n",
    "tumor_case_ids = tumor_case_ids[1:]"
   ]
  },
  {
   "cell_type": "code",
   "execution_count": 3,
   "id": "52f372f0",
   "metadata": {},
   "outputs": [],
   "source": [
    "'''\n",
    "Pulling in dictionary that has case IDs as keys and a list of \n",
    "associated files as values\n",
    "'''\n",
    "\n",
    "case_id_dict = {}\n",
    "\n",
    "with open('../Organized_Data/case_id_dict.csv', mode='r') \\\n",
    "as csvfile:\n",
    "    reader = csv.reader(csvfile)\n",
    "    for rows in reader:\n",
    "        k = rows[0]\n",
    "        v = rows[1][1:-1].split(',')\n",
    "        case_id_dict[k] = v"
   ]
  },
  {
   "cell_type": "code",
   "execution_count": 4,
   "id": "ba664e64",
   "metadata": {},
   "outputs": [],
   "source": [
    "'''\n",
    "Making 2 matricies, one for miRNA and one for mRNA, compiling the\n",
    "data from all cancerous breast tissue\n",
    "'''\n",
    "\n",
    "# Initializing miRNA and mRNA matrices\n",
    "miRNA_data = np.empty((1881,), int)\n",
    "mRNA_data = np.empty((60483,), int)\n",
    "\n",
    "# For all cancerous cases\n",
    "for tumor_id in tumor_case_ids:\n",
    "    \n",
    "    # Get the associated files\n",
    "    associated_files = case_id_dict[tumor_id]\n",
    "    \n",
    "    # For each file\n",
    "    for file in associated_files:\n",
    "        \n",
    "        # String manipulation to get the core file name\n",
    "        file = file[1:-1]\n",
    "        if file[0] == \"\\'\":\n",
    "            file = file[1:]\n",
    "        \n",
    "        # If the file is an miRNA file\n",
    "        if file[-1] == 't':\n",
    "            \n",
    "            case_file_mirna = '../Data/GDC_Data/' + file\n",
    "            \n",
    "            # Load the microRNA file as an array\n",
    "            mirnas = np.loadtxt(case_file_mirna, dtype='str')\n",
    "            \n",
    "            # Removing the column titles\n",
    "            mirnas = np.delete(mirnas, 0, 0)\n",
    "            \n",
    "            # Getting the counts of the miRNAs and appending to\n",
    "            # miRNA data\n",
    "            miRNA_counts = mirnas[:,2].astype(float)\n",
    "            miRNA_data = np.vstack([miRNA_data, miRNA_counts])\n",
    "            \n",
    "        # If the file is an mRNA file\n",
    "        else:\n",
    "            \n",
    "            case_file_mRNA = '../Data/GDC_Data/' + file\n",
    "            \n",
    "            # These files are zipped, need to open using pandas\n",
    "            mRNAs_dF = pd.read_csv(case_file_mRNA, sep='\\t', \n",
    "                                   header=None)\n",
    "            mRNAs_dF.columns = [\"mRNA_Name\", \"Normalized_Count\"]\n",
    "            \n",
    "            # Getting the counts of the miRNAs and appending to\n",
    "            # mRNA data\n",
    "            mRNA_counts = mRNAs_dF[\"Normalized_Count\"].to_numpy()\n",
    "            mRNA_data = np.vstack([mRNA_data, mRNA_counts])\n",
    "\n",
    "# Names of the miRNA and mRNA in matrices, in order\n",
    "miRNA_titles = mirnas[:,0]\n",
    "mRNA_titles = mRNAs_dF[\"mRNA_Name\"].to_numpy()\n",
    "\n",
    "# Final matrices, deleting first row because it's not a patient\n",
    "miRNA_data = np.delete(miRNA_data, 0, 0)\n",
    "mRNA_data = np.delete(mRNA_data, 0, 0)"
   ]
  },
  {
   "cell_type": "code",
   "execution_count": 5,
   "id": "d37e61c2",
   "metadata": {},
   "outputs": [],
   "source": [
    "# Saving both matricies to csv files\n",
    "\n",
    "np.savetxt('../Organized_Data/miRNA_Cancer_Data.csv', \n",
    "           miRNA_data, delimiter=\",\")\n",
    "np.savetxt('../Organized_Data/mRNA_Cancer_Data.csv', \n",
    "           mRNA_data, delimiter=\",\")"
   ]
  },
  {
   "cell_type": "code",
   "execution_count": null,
   "id": "86b32425",
   "metadata": {},
   "outputs": [],
   "source": []
  }
 ],
 "metadata": {
  "kernelspec": {
   "display_name": "Python [conda env:py38]",
   "language": "python",
   "name": "conda-env-py38-py"
  },
  "language_info": {
   "codemirror_mode": {
    "name": "ipython",
    "version": 3
   },
   "file_extension": ".py",
   "mimetype": "text/x-python",
   "name": "python",
   "nbconvert_exporter": "python",
   "pygments_lexer": "ipython3",
   "version": "3.8.12"
  }
 },
 "nbformat": 4,
 "nbformat_minor": 5
}
