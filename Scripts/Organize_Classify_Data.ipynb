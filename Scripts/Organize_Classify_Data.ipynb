{
 "cells": [
  {
   "cell_type": "markdown",
   "id": "4a39f963",
   "metadata": {},
   "source": [
    "#### The purpose of this script is to use the metadata to create a dictionary that has patients IDs as the keys, and lists of all the file names associated with that patient as the values. We also create a list of IDs of patients that only have cancerous samples."
   ]
  },
  {
   "cell_type": "code",
   "execution_count": 1,
   "id": "a024306e",
   "metadata": {},
   "outputs": [],
   "source": [
    "# Necessary imports\n",
    "\n",
    "import json\n",
    "import numpy as np\n",
    "import seaborn as sns\n",
    "import matplotlib.pyplot as plt\n",
    "import csv"
   ]
  },
  {
   "cell_type": "code",
   "execution_count": 2,
   "id": "2658a32b",
   "metadata": {},
   "outputs": [],
   "source": [
    "'''\n",
    "We need to be able to determine which files are associated with\n",
    "a given patient. The json file contains this information. Here\n",
    "we are storing all the metadata.\n",
    "'''\n",
    "\n",
    "with open('../Data/GDC_Metadata.json') as file:\n",
    "    json_string = file.readlines()\n",
    "    json_string = ''.join(json_string)\n",
    "metadata = json.loads(json_string)"
   ]
  },
  {
   "cell_type": "code",
   "execution_count": 3,
   "id": "2709fb11",
   "metadata": {},
   "outputs": [],
   "source": [
    "'''\n",
    "Making a dictionary where each key is the Case ID, and the value\n",
    "is a list of the files associated with each patient.\n",
    "'''\n",
    "\n",
    "# Dictionary of Case IDs\n",
    "case_id_dict = {}\n",
    "\n",
    "# For each entry in the metadata from the json file\n",
    "for entry in metadata:\n",
    "    \n",
    "    # Getting the case ID\n",
    "    case_id = entry['associated_entities'][0]['case_id']\n",
    "    # Getting the associated file name\n",
    "    file_name = entry['file_name']\n",
    "    \n",
    "    # If the Case ID is already in the dictionary, add the file\n",
    "    # name to the list of values\n",
    "    if case_id in case_id_dict:\n",
    "        case_id_dict[case_id].append(file_name)\n",
    "    # If not already in the dictionary, add new key and value\n",
    "    else:\n",
    "        case_id_dict[case_id] = [file_name]"
   ]
  },
  {
   "cell_type": "code",
   "execution_count": 4,
   "id": "b4772773",
   "metadata": {},
   "outputs": [],
   "source": [
    "'''\n",
    "Some patients don't have both the microRNA and mRNA files, so we\n",
    "need to remove those from analysis. Some also have samples from\n",
    "healthy tissue, which we will use later in the project but are\n",
    "removing for now. Thus, we want patients that only have 2 files\n",
    "associated to them.\n",
    "'''\n",
    "\n",
    "# List of Case IDs that have the right number of files\n",
    "tumor_case_ids = []\n",
    "\n",
    "# For each Case ID\n",
    "for key in case_id_dict:\n",
    "    # If they have 2 files, add them to the list of files to use\n",
    "    if len(case_id_dict[key]) == 2:\n",
    "        tumor_case_ids.append(key)"
   ]
  },
  {
   "cell_type": "code",
   "execution_count": 5,
   "id": "4278e0b9",
   "metadata": {},
   "outputs": [],
   "source": [
    "'''\n",
    "Writing the dictionary of case IDs and associated files to a csv\n",
    "file for permanent access throughout project.\n",
    "'''\n",
    "\n",
    "# Open a file for writing\n",
    "with open('../Organized_Data/case_id_dict.csv','w') as file:\n",
    "    \n",
    "    w = csv.writer(file, dialect='excel')\n",
    "    \n",
    "    # Writing the file headers\n",
    "    w.writerow(['Case IDs', 'Associated Files'])\n",
    "    \n",
    "    # Loop over dictionary keys and values\n",
    "    for key, val in case_id_dict.items():\n",
    "\n",
    "        # Write every key and value to file\n",
    "        w.writerow([key, val])\n",
    "        \n",
    "file.close()\n",
    "    \n",
    "'''\n",
    "Creating a csv file for all the case IDs that only have cancerous\n",
    "data.\n",
    "'''\n",
    "\n",
    "# Open a file for writing\n",
    "with open('../Organized_Data/tumor_case_ids.csv','w') as file:\n",
    "    \n",
    "    wr = csv.writer(file, dialect='excel')\n",
    "    \n",
    "    # Writing header\n",
    "    wr.writerow(['Tumor Case IDs'])\n",
    "    \n",
    "    # Writing each case ID to a row\n",
    "    for id in tumor_case_ids:\n",
    "        wr.writerow([id])\n",
    "        \n",
    "file.close()"
   ]
  },
  {
   "cell_type": "code",
   "execution_count": null,
   "id": "fb9de3a1",
   "metadata": {},
   "outputs": [],
   "source": []
  }
 ],
 "metadata": {
  "kernelspec": {
   "display_name": "Python [conda env:py38]",
   "language": "python",
   "name": "conda-env-py38-py"
  },
  "language_info": {
   "codemirror_mode": {
    "name": "ipython",
    "version": 3
   },
   "file_extension": ".py",
   "mimetype": "text/x-python",
   "name": "python",
   "nbconvert_exporter": "python",
   "pygments_lexer": "ipython3",
   "version": "3.8.12"
  }
 },
 "nbformat": 4,
 "nbformat_minor": 5
}
